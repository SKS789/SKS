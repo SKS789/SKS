{
 "cells": [
  {
   "cell_type": "markdown",
   "metadata": {},
   "source": [
    "# Assignment A2 [40 marks]\n",
    "\n",
    "The assignment consists of 3 exercises. Each exercise may contain coding and/or discussion questions.\n",
    "- Type your **code** in the **code cells** provided below each question.\n",
    "- For **discussion** questions, use the **Markdown cells** provided below each question, indicated by 📝. Double-click these cells to edit them, and run them to display your Markdown-formatted text. Please refer to the Week 1 tutorial notebook for Markdown syntax."
   ]
  },
  {
   "cell_type": "markdown",
   "metadata": {},
   "source": [
    "---\n",
    "## Question 1: Numerical Differentiation [10 marks]\n",
    "\n",
    "A general $N$-point finite difference approximation of the derivative $F' \\left( x \\right)$ of a sufficiently smooth function $F \\left( x \\right)$ can be written as\n",
    "\n",
    "$$\n",
    "F' \\left( x \\right) \\approx \\frac{1}{\\Delta x} \\sum_{i = 1}^N \\alpha_i F \\left( x + \\beta_i \\Delta x \\right),\n",
    "\\qquad \\qquad \\qquad (1)\n",
    "$$\n",
    "\n",
    "with step size $\\Delta x > 0$, and $\\alpha_i, \\beta_i \\in \\mathbb{Q}$, with $\\beta_i \\neq \\beta_j$ for $i\\neq j$. For example, the centred difference approximation $D_C(x)$ seen in the course has $N = 2$, and\n",
    "\n",
    "$$\n",
    "\\begin{cases}\n",
    "\\alpha_1 = \\frac{1}{2}, &\\alpha_2 = -\\frac{1}{2}, \\\\\n",
    "\\beta_1 = 1, &\\beta_2 = -1,\n",
    "\\end{cases}\n",
    "\\qquad\n",
    "\\text{giving} \\quad\n",
    "F'(x) \\approx \\frac{1}{2\\Delta x} \\left(F\\left(x + \\Delta x\\right) - F\\left(x - \\Delta x\\right)\\right).\n",
    "$$\n",
    "\n",
    "**1.1** Consider another finite difference approximation defined as in $(1)$, this time with $N=3$, and\n",
    "\n",
    "$$\n",
    "\\begin{cases}\n",
    "\\alpha_1 = -\\frac{4}{23}, &\\alpha_2 = -\\frac{9}{17}, &\\alpha_3 = \\frac{275}{391} \\\\\n",
    "\\beta_1 = -\\frac{3}{2}, &\\beta_2 = -\\frac{1}{3}, &\\beta_2 = \\frac{4}{5}\n",
    "\\end{cases}.\n",
    "$$\n",
    "\n",
    "Investigate the accuracy of this approximation.\n",
    "\n",
    "**[5 marks]**"
   ]
  },
  {
   "cell_type": "code",
   "execution_count": null,
   "metadata": {},
   "outputs": [],
   "source": []
  },
  {
   "cell_type": "markdown",
   "metadata": {},
   "source": [
    "**1.2** For an arbitrary choice of $\\beta_i$ values, what is the minimum number of points $N_{p}$ required to find an approximation $(1)$ which is at least $p$th order accurate?\n",
    "\n",
    "*Hint:* consider the Taylor expansion of $F \\left( x + \\beta_i \\Delta x \\right)$ around $x$.\n",
    "\n",
    "**[3 marks]**"
   ]
  },
  {
   "cell_type": "markdown",
   "metadata": {},
   "source": [
    "***📝 Discussion for question 1.2***"
   ]
  },
  {
   "cell_type": "markdown",
   "metadata": {},
   "source": [
    "**1.3** Using your reasoning from **1.2**, write a function `FD_coefficients()` which, given $N_p$ values $\\beta_i$, returns $N_p$ coefficients $\\alpha_i$ such that the approximation $(1)$ is at least $p$th order accurate.\n",
    "\n",
    "Use your function to obtain the coefficients $\\alpha_i$ from **1.1**.\n",
    "\n",
    "**[2 marks]**"
   ]
  },
  {
   "cell_type": "code",
   "execution_count": null,
   "metadata": {},
   "outputs": [],
   "source": []
  },
  {
   "cell_type": "markdown",
   "metadata": {},
   "source": [
    "---\n",
    "## Question 2: Root Finding [10 marks]\n",
    "\n",
    "Consider the following polynomial of cubic order,\n",
    "\n",
    "$$\n",
    "p(z) = z^3 + (c-1)z - c,\n",
    "$$\n",
    "where $c \\in \\mathbb{C}$.\n",
    "\n",
    "This polynomial is complex differentiable, and we can apply Newton's method to find a complex root $z_\\ast$, using a complex initial guess $z_0 = a_0 + ib_0$. In this problem, we seek to map the values of $z_0$ which lead to convergence to a root of $p$.\n",
    "\n",
    "**2.1** Write a function `complex_newton(amin, amax, bmin, bmax, c, N, eps, target_roots)` which implements Newton's method to find roots of $p(z)$ using $N^2$ initial guesses $z_0 = a_0 + ib_0$. The input arguments are as follows:\n",
    "\n",
    "- The real part $a_0$ of the initial guess should take `N` linearly spaced values between `amin` and `amax` (inclusive).\n",
    "- The imaginary part $b_0$ of the initial guess should take `N` linearly spaced values between `bmin` and `bmax` (inclusive).\n",
    "- `c` is the parameter $c \\in \\mathbb{C}$ in $p(z)$.\n",
    "- `eps` is the tolerance $\\varepsilon > 0$.\n",
    "- `target_root` takes one of the following values:\n",
    "    - if `target_root` is given as `None`, then convergence should be considered as achieved if Newton's method has converged to any root of $p$.\n",
    "    - if `target_root` is given as a number, then convergence should only be considered as achieved if Newton's method has converged to the specific root $z_\\ast =$ `target_root`.\n",
    "\n",
    "Your function should return an array `kmax` of size $N \\times N$, containing the total number of iterations required for convergence, for each value of $z_0$. You should decide what to do in case a particular value of $z_0$ doesn't lead to convergence.\n",
    "    \n",
    "Up to 2 marks will be given to solutions which iterate over each value of $z_0$. To obtain up to the full 4 marks, your implementation should be vectorised -- i.e. use a single loop to iterate Newton's method for all values of $z_0$ at once.\n",
    "\n",
    "**[4 marks]**"
   ]
  },
  {
   "cell_type": "code",
   "execution_count": null,
   "metadata": {},
   "outputs": [],
   "source": []
  },
  {
   "cell_type": "markdown",
   "metadata": {},
   "source": [
    "**2.2** For $c = 0$, $a_0 \\in [-5,5]$ and $b_0 \\in [-5,5]$, with at least $N = 200$ values for each (you can increase $N$ if your computer allows it), use your function `complex_newton()` to calculate, for each $z_0 = a_0 + ib_0$, the total number of iterates needed to reach a disk of radius $\\varepsilon$ around the root at $z = 1$. Present your results in a heatmap plot, with $a_0$ on the abscissa, $b_0$ on the ordinate and a colour map showing the total number of iterates. \n",
    "\n",
    "**[3 marks]**"
   ]
  },
  {
   "cell_type": "code",
   "execution_count": null,
   "metadata": {},
   "outputs": [],
   "source": []
  },
  {
   "cell_type": "markdown",
   "metadata": {},
   "source": [
    "**2.3** For $c = 0.32 + 1.64i$, map out the points $z_0$ for which Newton's method does not converge to any root. What does it do instead?\n",
    "\n",
    "*Hint:* Pick a point $z_0$ in a region where Newton's method does not converge and print out, say, 50 iterates. What do you observe?\n",
    "\n",
    "**[3 marks]**"
   ]
  },
  {
   "cell_type": "code",
   "execution_count": null,
   "metadata": {},
   "outputs": [],
   "source": []
  },
  {
   "cell_type": "markdown",
   "metadata": {},
   "source": [
    "***📝 Discussion for question 2.3***"
   ]
  },
  {
   "cell_type": "markdown",
   "metadata": {},
   "source": [
    "---\n",
    "## Question 3: Numerical Integration of an ODE [20 marks]\n",
    "\n",
    "Cardiac tissue is an example of an excitable medium, where a small stimulus can lead to a large response (a heart beat). The FitzHugh-Nagumo model describes the electrical activity of a single cardiac cell in terms of the transmembrane potential $u$ and a recovery variable $v$\n",
    "\n",
    "\\begin{align}\n",
    "        \\dot u & = f(u,v) = \\frac{1}{\\varepsilon} \\left( u - \\frac{u^3}{3} - v + I \\right) \\ , \\\\\n",
    "        \\dot v & = g(u,v) = \\varepsilon \\left( u - \\gamma v + \\beta \\right) \\ ,\n",
    "\\end{align}\n",
    "\n",
    "where $I$ (a stimulus), $\\varepsilon$, $\\gamma$, and $\\beta$ are known parameters.\n",
    "\n",
    "The equation for $u$ leads to fast dynamics with the possibility of excitation, while the linear term proportional to $-v$ in the equation for the recovery variable produces slower dynamics and negative feedback. The FitzHugh-Nagumo model is an example of a stiff differential equation, where the stiffness becomes more pronounced for smaller $\\varepsilon$.\n",
    "\n",
    "In questions **3.1**, **3.2**, and **3.3**, we take $\\varepsilon = 0.2$, $\\gamma = 0.8$, and $\\beta = 0.7$.\n",
    "\n",
    "\n",
    "**3.1** The fixed points, defined by $\\dot u = f(u, v) = 0$ and $\\dot v = g(u, v) = 0$, correspond to the state of a cell at rest. Write a function `resting_state()` to determine the values $(u_I^*, v_I^*)$ for the cell in its resting state for a given value of $I$ and a given initial guess $(u_{I, 0}, v_{I, 0})$, using Newton's method.\n",
    "\n",
    "Use your function to compute $(u_I^*, v_I^*)$ for $I=0$ and $I = 0.5$, with initial guess $(u_{I, 0}, v_{I, 0}) = (0.2, 0.2)$.\n",
    "\n",
    "\n",
    "**[5 marks]**"
   ]
  },
  {
   "cell_type": "code",
   "execution_count": null,
   "metadata": {},
   "outputs": [],
   "source": []
  },
  {
   "cell_type": "markdown",
   "metadata": {},
   "source": [
    "**3.2** Using the method of your choice **\\***, compute the numerical solution $(u_n, v_n) \\approx (u(n\\Delta t), v(n\\Delta t)), n=0, 1, 2, \\dots$ for the FitzHugh-Nagumo model.\n",
    "\n",
    "You should compute the solution for both $I = 0$ and $I = 0.5$, starting at time $t = 0$ until at least $t = 100$, with $(u_0 = 0.8, v_0 = 0.8)$ as the initial condition.\n",
    "\n",
    "Present your results graphically by plotting\n",
    "\n",
    "(a) $u_n$ and $v_n$ with **time** (not time step) on the x-axis,  \n",
    "(b) $v_n$ as a function of $u_n$. This will show what we call the solution trajectories in *phase space*.\n",
    "\n",
    "You should format the plots so that the data presentation is clear and easy to understand.\n",
    "\n",
    "Given what this mathematical model describes, and given that $I$ represents a stimulus, how do you interpret your results for the two different values of $I$? Describe your observations in less than 200 words.\n",
    "\n",
    "\n",
    "**\\*** You may use e.g. the forward Euler method seen in Week 7 with a small enough time step, or use one of the functions provided by the `scipy.integrate` module, as seen in Quiz Q4.\n",
    "\n",
    "\n",
    "**[7 marks]**"
   ]
  },
  {
   "cell_type": "code",
   "execution_count": null,
   "metadata": {},
   "outputs": [],
   "source": []
  },
  {
   "cell_type": "markdown",
   "metadata": {},
   "source": [
    "***📝 Discussion for question 3.2***"
   ]
  },
  {
   "cell_type": "markdown",
   "metadata": {},
   "source": [
    "**3.3** Compute the eigenvalues of the Jacobi matrix\n",
    "        \n",
    "$$\n",
    "\\large\n",
    "\\begin{pmatrix}\n",
    "    \\frac{\\partial f}{\\partial u} & \\frac{\\partial f}{\\partial v} \\\\ \n",
    "    \\frac{\\partial g}{\\partial u} & \\frac{\\partial g}{\\partial v}\n",
    "\\end{pmatrix}_{u = u_I^*, v = v_I^*}\n",
    "$$\n",
    "\n",
    "evaluated at the fixed points $u = u_I^*, v = v_I^*$, for $I = 0$ and $I = 0.5$. What do you observe?\n",
    "\n",
    "*You may use NumPy built-in functions to compute eigenvalues.*\n",
    "\n",
    "\n",
    "**[3 marks]**"
   ]
  },
  {
   "cell_type": "code",
   "execution_count": null,
   "metadata": {},
   "outputs": [],
   "source": []
  },
  {
   "cell_type": "markdown",
   "metadata": {},
   "source": [
    "***📝 Discussion for question 3.3***"
   ]
  },
  {
   "cell_type": "markdown",
   "metadata": {},
   "source": [
    "**3.4** For this question, we set $I = 0$ and $\\gamma = 5$.\n",
    "\n",
    "(a) Use the function `resting_state()` you wrote for **3.1** to find three fixed points, $(u_{(0)}^*, v_{(0)}^*)$, $(u_{(1)}^*, v_{(1)}^*)$ and $(u_{(2)}^*, v_{(2)}^*)$, using the initial conditions provided in the NumPy array `uv0` below (each row of the array constitutes a pair of initial conditions for one of the three fixed points).\n",
    "\n",
    "(b) Compute the numerical solution $(u_n, v_n), n=0, 1, 2, \\dots$ using the initial condition $(u_{(0)}^* + \\delta, v_{(0)}^* + \\delta)$, for $\\delta \\in \\{0, 0.3, 0.6, 1.0\\}$. This simulates the activity of a cell starting at a small perturbation $\\delta$ of one of its resting states, in this case $(u_{(0)}^*, v_{(0)}^*)$.\n",
    "\n",
    "Plot your results in a similar way as in question **3.2**, and discuss your observations in less than 150 words. In particular, does the solution always return to the same fixed point, i.e. the same resting state?\n",
    "\n",
    "**[5 marks]**"
   ]
  },
  {
   "cell_type": "code",
   "execution_count": null,
   "metadata": {},
   "outputs": [],
   "source": [
    "import numpy as np\n",
    "\n",
    "# Initial conditions\n",
    "uv0 = np.array([[0.83928724, 0.64551717],\n",
    "                [0.03831243, 0.43144263],\n",
    "                [-1.7232432, -0.2604498]])\n",
    "\n"
   ]
  },
  {
   "cell_type": "markdown",
   "metadata": {},
   "source": [
    "***📝 Discussion for question 3.4***"
   ]
  }
 ],
 "metadata": {
  "kernelspec": {
   "display_name": "Python 3",
   "language": "python",
   "name": "python3"
  },
  "language_info": {
   "codemirror_mode": {
    "name": "ipython",
    "version": 3
   },
   "file_extension": ".py",
   "mimetype": "text/x-python",
   "name": "python",
   "nbconvert_exporter": "python",
   "pygments_lexer": "ipython3",
   "version": "3.7.6"
  }
 },
 "nbformat": 4,
 "nbformat_minor": 4
}
